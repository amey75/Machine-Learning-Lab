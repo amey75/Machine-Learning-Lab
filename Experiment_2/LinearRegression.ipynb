{
 "cells": [
  {
   "cell_type": "markdown",
   "id": "054e0db1",
   "metadata": {},
   "source": [
    "## (1) Dataset"
   ]
  },
  {
   "cell_type": "code",
   "execution_count": 1,
   "id": "f3176e14",
   "metadata": {},
   "outputs": [],
   "source": [
    "import numpy as np\n",
    "import pandas as pd"
   ]
  },
  {
   "cell_type": "code",
   "execution_count": 2,
   "id": "a8bbfcf3",
   "metadata": {},
   "outputs": [],
   "source": [
    "train_df = pd.read_csv(\"california_housing_train.csv\")\n",
    "test_df = pd.read_csv(\"california_housing_test.csv\")"
   ]
  },
  {
   "cell_type": "code",
   "execution_count": 3,
   "id": "6c834e98",
   "metadata": {},
   "outputs": [
    {
     "data": {
      "text/html": [
       "<div>\n",
       "<style scoped>\n",
       "    .dataframe tbody tr th:only-of-type {\n",
       "        vertical-align: middle;\n",
       "    }\n",
       "\n",
       "    .dataframe tbody tr th {\n",
       "        vertical-align: top;\n",
       "    }\n",
       "\n",
       "    .dataframe thead th {\n",
       "        text-align: right;\n",
       "    }\n",
       "</style>\n",
       "<table border=\"1\" class=\"dataframe\">\n",
       "  <thead>\n",
       "    <tr style=\"text-align: right;\">\n",
       "      <th></th>\n",
       "      <th>longitude</th>\n",
       "      <th>latitude</th>\n",
       "      <th>housing_median_age</th>\n",
       "      <th>total_rooms</th>\n",
       "      <th>total_bedrooms</th>\n",
       "      <th>population</th>\n",
       "      <th>households</th>\n",
       "      <th>median_income</th>\n",
       "      <th>median_house_value</th>\n",
       "    </tr>\n",
       "  </thead>\n",
       "  <tbody>\n",
       "    <tr>\n",
       "      <th>0</th>\n",
       "      <td>-114.31</td>\n",
       "      <td>34.19</td>\n",
       "      <td>15.0</td>\n",
       "      <td>5612.0</td>\n",
       "      <td>1283.0</td>\n",
       "      <td>1015.0</td>\n",
       "      <td>472.0</td>\n",
       "      <td>1.4936</td>\n",
       "      <td>66900.0</td>\n",
       "    </tr>\n",
       "    <tr>\n",
       "      <th>1</th>\n",
       "      <td>-114.47</td>\n",
       "      <td>34.40</td>\n",
       "      <td>19.0</td>\n",
       "      <td>7650.0</td>\n",
       "      <td>1901.0</td>\n",
       "      <td>1129.0</td>\n",
       "      <td>463.0</td>\n",
       "      <td>1.8200</td>\n",
       "      <td>80100.0</td>\n",
       "    </tr>\n",
       "    <tr>\n",
       "      <th>2</th>\n",
       "      <td>-114.56</td>\n",
       "      <td>33.69</td>\n",
       "      <td>17.0</td>\n",
       "      <td>720.0</td>\n",
       "      <td>174.0</td>\n",
       "      <td>333.0</td>\n",
       "      <td>117.0</td>\n",
       "      <td>1.6509</td>\n",
       "      <td>85700.0</td>\n",
       "    </tr>\n",
       "    <tr>\n",
       "      <th>3</th>\n",
       "      <td>-114.57</td>\n",
       "      <td>33.64</td>\n",
       "      <td>14.0</td>\n",
       "      <td>1501.0</td>\n",
       "      <td>337.0</td>\n",
       "      <td>515.0</td>\n",
       "      <td>226.0</td>\n",
       "      <td>3.1917</td>\n",
       "      <td>73400.0</td>\n",
       "    </tr>\n",
       "    <tr>\n",
       "      <th>4</th>\n",
       "      <td>-114.57</td>\n",
       "      <td>33.57</td>\n",
       "      <td>20.0</td>\n",
       "      <td>1454.0</td>\n",
       "      <td>326.0</td>\n",
       "      <td>624.0</td>\n",
       "      <td>262.0</td>\n",
       "      <td>1.9250</td>\n",
       "      <td>65500.0</td>\n",
       "    </tr>\n",
       "  </tbody>\n",
       "</table>\n",
       "</div>"
      ],
      "text/plain": [
       "   longitude  latitude  housing_median_age  total_rooms  total_bedrooms  \\\n",
       "0    -114.31     34.19                15.0       5612.0          1283.0   \n",
       "1    -114.47     34.40                19.0       7650.0          1901.0   \n",
       "2    -114.56     33.69                17.0        720.0           174.0   \n",
       "3    -114.57     33.64                14.0       1501.0           337.0   \n",
       "4    -114.57     33.57                20.0       1454.0           326.0   \n",
       "\n",
       "   population  households  median_income  median_house_value  \n",
       "0      1015.0       472.0         1.4936             66900.0  \n",
       "1      1129.0       463.0         1.8200             80100.0  \n",
       "2       333.0       117.0         1.6509             85700.0  \n",
       "3       515.0       226.0         3.1917             73400.0  \n",
       "4       624.0       262.0         1.9250             65500.0  "
      ]
     },
     "execution_count": 3,
     "metadata": {},
     "output_type": "execute_result"
    }
   ],
   "source": [
    "train_df.head()"
   ]
  },
  {
   "cell_type": "code",
   "execution_count": 4,
   "id": "81b35a43",
   "metadata": {},
   "outputs": [
    {
     "data": {
      "text/html": [
       "<div>\n",
       "<style scoped>\n",
       "    .dataframe tbody tr th:only-of-type {\n",
       "        vertical-align: middle;\n",
       "    }\n",
       "\n",
       "    .dataframe tbody tr th {\n",
       "        vertical-align: top;\n",
       "    }\n",
       "\n",
       "    .dataframe thead th {\n",
       "        text-align: right;\n",
       "    }\n",
       "</style>\n",
       "<table border=\"1\" class=\"dataframe\">\n",
       "  <thead>\n",
       "    <tr style=\"text-align: right;\">\n",
       "      <th></th>\n",
       "      <th>longitude</th>\n",
       "      <th>latitude</th>\n",
       "      <th>housing_median_age</th>\n",
       "      <th>total_rooms</th>\n",
       "      <th>total_bedrooms</th>\n",
       "      <th>population</th>\n",
       "      <th>households</th>\n",
       "      <th>median_income</th>\n",
       "      <th>median_house_value</th>\n",
       "    </tr>\n",
       "  </thead>\n",
       "  <tbody>\n",
       "    <tr>\n",
       "      <th>0</th>\n",
       "      <td>-122.05</td>\n",
       "      <td>37.37</td>\n",
       "      <td>27.0</td>\n",
       "      <td>3885.0</td>\n",
       "      <td>661.0</td>\n",
       "      <td>1537.0</td>\n",
       "      <td>606.0</td>\n",
       "      <td>6.6085</td>\n",
       "      <td>344700.0</td>\n",
       "    </tr>\n",
       "    <tr>\n",
       "      <th>1</th>\n",
       "      <td>-118.30</td>\n",
       "      <td>34.26</td>\n",
       "      <td>43.0</td>\n",
       "      <td>1510.0</td>\n",
       "      <td>310.0</td>\n",
       "      <td>809.0</td>\n",
       "      <td>277.0</td>\n",
       "      <td>3.5990</td>\n",
       "      <td>176500.0</td>\n",
       "    </tr>\n",
       "    <tr>\n",
       "      <th>2</th>\n",
       "      <td>-117.81</td>\n",
       "      <td>33.78</td>\n",
       "      <td>27.0</td>\n",
       "      <td>3589.0</td>\n",
       "      <td>507.0</td>\n",
       "      <td>1484.0</td>\n",
       "      <td>495.0</td>\n",
       "      <td>5.7934</td>\n",
       "      <td>270500.0</td>\n",
       "    </tr>\n",
       "    <tr>\n",
       "      <th>3</th>\n",
       "      <td>-118.36</td>\n",
       "      <td>33.82</td>\n",
       "      <td>28.0</td>\n",
       "      <td>67.0</td>\n",
       "      <td>15.0</td>\n",
       "      <td>49.0</td>\n",
       "      <td>11.0</td>\n",
       "      <td>6.1359</td>\n",
       "      <td>330000.0</td>\n",
       "    </tr>\n",
       "    <tr>\n",
       "      <th>4</th>\n",
       "      <td>-119.67</td>\n",
       "      <td>36.33</td>\n",
       "      <td>19.0</td>\n",
       "      <td>1241.0</td>\n",
       "      <td>244.0</td>\n",
       "      <td>850.0</td>\n",
       "      <td>237.0</td>\n",
       "      <td>2.9375</td>\n",
       "      <td>81700.0</td>\n",
       "    </tr>\n",
       "  </tbody>\n",
       "</table>\n",
       "</div>"
      ],
      "text/plain": [
       "   longitude  latitude  housing_median_age  total_rooms  total_bedrooms  \\\n",
       "0    -122.05     37.37                27.0       3885.0           661.0   \n",
       "1    -118.30     34.26                43.0       1510.0           310.0   \n",
       "2    -117.81     33.78                27.0       3589.0           507.0   \n",
       "3    -118.36     33.82                28.0         67.0            15.0   \n",
       "4    -119.67     36.33                19.0       1241.0           244.0   \n",
       "\n",
       "   population  households  median_income  median_house_value  \n",
       "0      1537.0       606.0         6.6085            344700.0  \n",
       "1       809.0       277.0         3.5990            176500.0  \n",
       "2      1484.0       495.0         5.7934            270500.0  \n",
       "3        49.0        11.0         6.1359            330000.0  \n",
       "4       850.0       237.0         2.9375             81700.0  "
      ]
     },
     "execution_count": 4,
     "metadata": {},
     "output_type": "execute_result"
    }
   ],
   "source": [
    "test_df.head()"
   ]
  },
  {
   "cell_type": "markdown",
   "id": "043e5edf",
   "metadata": {},
   "source": [
    "## (2) Tasks"
   ]
  },
  {
   "cell_type": "markdown",
   "id": "a5035b15",
   "metadata": {},
   "source": [
    "### (A) Data preprocessing"
   ]
  },
  {
   "cell_type": "markdown",
   "id": "96865547",
   "metadata": {},
   "source": [
    "#### Checking Null Values"
   ]
  },
  {
   "cell_type": "code",
   "execution_count": 5,
   "id": "374ceddf",
   "metadata": {},
   "outputs": [
    {
     "data": {
      "text/plain": [
       "longitude             0\n",
       "latitude              0\n",
       "housing_median_age    0\n",
       "total_rooms           0\n",
       "total_bedrooms        0\n",
       "population            0\n",
       "households            0\n",
       "median_income         0\n",
       "median_house_value    0\n",
       "dtype: int64"
      ]
     },
     "execution_count": 5,
     "metadata": {},
     "output_type": "execute_result"
    }
   ],
   "source": [
    "## checking null values in train dataset\n",
    "train_df.isnull().sum()"
   ]
  },
  {
   "cell_type": "code",
   "execution_count": 6,
   "id": "096375af",
   "metadata": {},
   "outputs": [
    {
     "data": {
      "text/plain": [
       "longitude             0\n",
       "latitude              0\n",
       "housing_median_age    0\n",
       "total_rooms           0\n",
       "total_bedrooms        0\n",
       "population            0\n",
       "households            0\n",
       "median_income         0\n",
       "median_house_value    0\n",
       "dtype: int64"
      ]
     },
     "execution_count": 6,
     "metadata": {},
     "output_type": "execute_result"
    }
   ],
   "source": [
    "## checking null values in test dataset\n",
    "test_df.isnull().sum()\n",
    "\n",
    "## thus we dont have to deal with any null or missing values"
   ]
  },
  {
   "cell_type": "markdown",
   "id": "476f23cd",
   "metadata": {},
   "source": [
    "#### Dividing the datasets into x_train, x_test, y_train, y_test"
   ]
  },
  {
   "cell_type": "code",
   "execution_count": 7,
   "id": "8705098b",
   "metadata": {},
   "outputs": [],
   "source": [
    "x_train = np.array(train_df.iloc[:, :-1])\n",
    "y_train = np.array(train_df.iloc[:, -1]).reshape(-1,1)"
   ]
  },
  {
   "cell_type": "code",
   "execution_count": 8,
   "id": "5e03bde3",
   "metadata": {},
   "outputs": [
    {
     "data": {
      "text/plain": [
       "array([[-114.31  ,   34.19  ,   15.    , ..., 1015.    ,  472.    ,\n",
       "           1.4936],\n",
       "       [-114.47  ,   34.4   ,   19.    , ..., 1129.    ,  463.    ,\n",
       "           1.82  ],\n",
       "       [-114.56  ,   33.69  ,   17.    , ...,  333.    ,  117.    ,\n",
       "           1.6509],\n",
       "       ...,\n",
       "       [-124.3   ,   41.84  ,   17.    , ..., 1244.    ,  456.    ,\n",
       "           3.0313],\n",
       "       [-124.3   ,   41.8   ,   19.    , ..., 1298.    ,  478.    ,\n",
       "           1.9797],\n",
       "       [-124.35  ,   40.54  ,   52.    , ...,  806.    ,  270.    ,\n",
       "           3.0147]])"
      ]
     },
     "execution_count": 8,
     "metadata": {},
     "output_type": "execute_result"
    }
   ],
   "source": [
    "x_train"
   ]
  },
  {
   "cell_type": "code",
   "execution_count": 9,
   "id": "c1cd888d",
   "metadata": {},
   "outputs": [
    {
     "data": {
      "text/plain": [
       "array([[ 66900.],\n",
       "       [ 80100.],\n",
       "       [ 85700.],\n",
       "       ...,\n",
       "       [103600.],\n",
       "       [ 85800.],\n",
       "       [ 94600.]])"
      ]
     },
     "execution_count": 9,
     "metadata": {},
     "output_type": "execute_result"
    }
   ],
   "source": [
    "y_train"
   ]
  },
  {
   "cell_type": "code",
   "execution_count": 10,
   "id": "1a44c465",
   "metadata": {},
   "outputs": [],
   "source": [
    "x_test = np.array(test_df.iloc[:, :-1])\n",
    "y_test = np.array(test_df.iloc[:, -1]).reshape(-1, 1)"
   ]
  },
  {
   "cell_type": "code",
   "execution_count": 11,
   "id": "8c66175e",
   "metadata": {},
   "outputs": [
    {
     "data": {
      "text/plain": [
       "array([[-122.05  ,   37.37  ,   27.    , ..., 1537.    ,  606.    ,\n",
       "           6.6085],\n",
       "       [-118.3   ,   34.26  ,   43.    , ...,  809.    ,  277.    ,\n",
       "           3.599 ],\n",
       "       [-117.81  ,   33.78  ,   27.    , ..., 1484.    ,  495.    ,\n",
       "           5.7934],\n",
       "       ...,\n",
       "       [-119.7   ,   36.3   ,   10.    , ...,  693.    ,  220.    ,\n",
       "           2.2895],\n",
       "       [-117.12  ,   34.1   ,   40.    , ...,   46.    ,   14.    ,\n",
       "           3.2708],\n",
       "       [-119.63  ,   34.42  ,   42.    , ...,  753.    ,  260.    ,\n",
       "           8.5608]])"
      ]
     },
     "execution_count": 11,
     "metadata": {},
     "output_type": "execute_result"
    }
   ],
   "source": [
    "x_test"
   ]
  },
  {
   "cell_type": "code",
   "execution_count": 12,
   "id": "07295237",
   "metadata": {},
   "outputs": [
    {
     "data": {
      "text/plain": [
       "array([[344700.],\n",
       "       [176500.],\n",
       "       [270500.],\n",
       "       ...,\n",
       "       [ 62000.],\n",
       "       [162500.],\n",
       "       [500001.]])"
      ]
     },
     "execution_count": 12,
     "metadata": {},
     "output_type": "execute_result"
    }
   ],
   "source": [
    "y_test"
   ]
  },
  {
   "cell_type": "markdown",
   "id": "fd0404c7",
   "metadata": {},
   "source": [
    "#### Implementing Standardization from scratch"
   ]
  },
  {
   "cell_type": "markdown",
   "id": "0fe7d709",
   "metadata": {},
   "source": [
    "#### We have a mathematical formula for standardization\n",
    "#### Z-Score = (Current_value - Mean) / Standard Deviation."
   ]
  },
  {
   "cell_type": "code",
   "execution_count": 13,
   "id": "46a4b512",
   "metadata": {},
   "outputs": [],
   "source": [
    "def Standardization(array): ## for the dependent variables\n",
    "    rows, cols = array.shape  \n",
    "    res = np.zeros((rows, cols))\n",
    "    for col in range(cols):\n",
    "        feature = array[:, col]  \n",
    "        feature = (feature - np.mean(feature)) / np.std(feature)\n",
    "        res[:, col] = feature   \n",
    "    return res"
   ]
  },
  {
   "cell_type": "code",
   "execution_count": 14,
   "id": "9c7012cf",
   "metadata": {},
   "outputs": [],
   "source": [
    "# y_train = Standardization(y_train)\n",
    "# y_test = Standardization(y_test)"
   ]
  },
  {
   "cell_type": "code",
   "execution_count": 15,
   "id": "29a31181",
   "metadata": {},
   "outputs": [],
   "source": [
    "x_test = Standardization(x_test)\n",
    "x_train = Standardization(x_train)"
   ]
  },
  {
   "cell_type": "code",
   "execution_count": 16,
   "id": "69e53d8b",
   "metadata": {},
   "outputs": [
    {
     "data": {
      "text/plain": [
       "array([[ 2.619365  , -0.67152023, -1.07967114, ..., -0.36118401,\n",
       "        -0.07599796, -1.25254316],\n",
       "       [ 2.53956878, -0.57326437, -0.76187201, ..., -0.26186523,\n",
       "        -0.09940441, -1.08148298],\n",
       "       [ 2.4946834 , -0.90546278, -0.92077158, ..., -0.95535424,\n",
       "        -0.99925206, -1.17010515],\n",
       "       ...,\n",
       "       [-2.36291168,  2.90780067, -0.92077158, ..., -0.16167524,\n",
       "        -0.11760942, -0.44666313],\n",
       "       [-2.36291168,  2.88908527, -0.76187201, ..., -0.1146295 ,\n",
       "        -0.06039367, -0.99778717],\n",
       "       [-2.387848  ,  2.29955006,  1.85997083, ..., -0.54326844,\n",
       "        -0.60134255, -0.45536288]])"
      ]
     },
     "execution_count": 16,
     "metadata": {},
     "output_type": "execute_result"
    }
   ],
   "source": [
    "x_train"
   ]
  },
  {
   "cell_type": "markdown",
   "id": "71769e01",
   "metadata": {},
   "source": [
    "### (B) Implementing Normal Equation"
   ]
  },
  {
   "cell_type": "code",
   "execution_count": 17,
   "id": "50325a45",
   "metadata": {},
   "outputs": [],
   "source": [
    "def NormalEquation(x_train, y_train):\n",
    "    modified_x_train = np.c_[np.ones((x_train.shape[0], 1)), x_train] ## adding a column of ones (adding the intercept)\n",
    "    transposed_modified_x_train = np.transpose(modified_x_train)\n",
    "\n",
    "    params = np.linalg.inv((transposed_modified_x_train @ modified_x_train)) @ (transposed_modified_x_train @ y_train)\n",
    "    return params"
   ]
  },
  {
   "cell_type": "code",
   "execution_count": 18,
   "id": "415ae4ae",
   "metadata": {},
   "outputs": [],
   "source": [
    "params = NormalEquation(x_train = x_train, y_train = y_train)"
   ]
  },
  {
   "cell_type": "code",
   "execution_count": 19,
   "id": "7336504c",
   "metadata": {},
   "outputs": [
    {
     "data": {
      "text/plain": [
       "array([[207300.91235294],\n",
       "       [-86499.60728226],\n",
       "       [-91744.0508306 ],\n",
       "       [ 14483.29860201],\n",
       "       [-18263.60700749],\n",
       "       [ 49587.33777166],\n",
       "       [-44178.15153005],\n",
       "       [ 17470.57604338],\n",
       "       [ 77291.55314914]])"
      ]
     },
     "execution_count": 19,
     "metadata": {},
     "output_type": "execute_result"
    }
   ],
   "source": [
    "params"
   ]
  },
  {
   "cell_type": "code",
   "execution_count": 20,
   "id": "a0d60998",
   "metadata": {},
   "outputs": [],
   "source": [
    "modified_x_test = np.c_[np.ones((x_test.shape[0], 1)), x_test]\n",
    "y_pred = modified_x_test@params"
   ]
  },
  {
   "cell_type": "code",
   "execution_count": 21,
   "id": "feca9c57",
   "metadata": {},
   "outputs": [
    {
     "data": {
      "text/plain": [
       "(3000, 1)"
      ]
     },
     "execution_count": 21,
     "metadata": {},
     "output_type": "execute_result"
    }
   ],
   "source": [
    "y_pred.shape"
   ]
  },
  {
   "cell_type": "code",
   "execution_count": 22,
   "id": "1f9abed8",
   "metadata": {},
   "outputs": [],
   "source": [
    "def PerformaceMetrics(y_pred, y_test):\n",
    "    mae = np.mean(np.abs(y_pred - y_test))\n",
    "    mse = np.mean((y_pred - y_test) ** 2)\n",
    "\n",
    "    print(\"The Mean Squared Error is: \", mse)\n",
    "    print(\"The Mean Absolute Error is: \", mae)\n"
   ]
  },
  {
   "cell_type": "code",
   "execution_count": 23,
   "id": "bb70b809",
   "metadata": {},
   "outputs": [
    {
     "data": {
      "text/plain": [
       "array([[358460.00878369],\n",
       "       [216569.51471133],\n",
       "       [276384.95549539],\n",
       "       ...,\n",
       "       [ 90664.64488211],\n",
       "       [151950.61857716],\n",
       "       [466849.37460678]])"
      ]
     },
     "execution_count": 23,
     "metadata": {},
     "output_type": "execute_result"
    }
   ],
   "source": [
    "y_pred"
   ]
  },
  {
   "cell_type": "code",
   "execution_count": 24,
   "id": "3ce99a6d",
   "metadata": {},
   "outputs": [
    {
     "data": {
      "text/plain": [
       "array([[344700.],\n",
       "       [176500.],\n",
       "       [270500.],\n",
       "       ...,\n",
       "       [ 62000.],\n",
       "       [162500.],\n",
       "       [500001.]])"
      ]
     },
     "execution_count": 24,
     "metadata": {},
     "output_type": "execute_result"
    }
   ],
   "source": [
    "y_test"
   ]
  },
  {
   "cell_type": "code",
   "execution_count": 25,
   "id": "bdd69ca8",
   "metadata": {},
   "outputs": [
    {
     "name": "stdout",
     "output_type": "stream",
     "text": [
      "The Mean Squared Error is:  4886020526.855478\n",
      "The Mean Absolute Error is:  50669.4460909907\n"
     ]
    }
   ],
   "source": [
    "PerformaceMetrics(y_pred = y_pred, y_test = y_test)"
   ]
  },
  {
   "cell_type": "code",
   "execution_count": 26,
   "id": "880aabb2",
   "metadata": {},
   "outputs": [
    {
     "name": "stdout",
     "output_type": "stream",
     "text": [
      "0.6180349003715606\n"
     ]
    }
   ],
   "source": [
    "from sklearn.metrics import r2_score\n",
    "print(r2_score(y_true=y_test, y_pred=y_pred))"
   ]
  },
  {
   "cell_type": "code",
   "execution_count": null,
   "id": "98af3c8c",
   "metadata": {},
   "outputs": [],
   "source": []
  },
  {
   "cell_type": "markdown",
   "id": "b5c60663",
   "metadata": {},
   "source": [
    "### (C) Implementing Batch Gradient Descent"
   ]
  },
  {
   "cell_type": "code",
   "execution_count": null,
   "id": "12beba0d",
   "metadata": {},
   "outputs": [],
   "source": []
  },
  {
   "cell_type": "markdown",
   "id": "9a3ef0ba",
   "metadata": {},
   "source": [
    "### (D) Comparison with sklearn"
   ]
  },
  {
   "cell_type": "code",
   "execution_count": 27,
   "id": "6d902a95",
   "metadata": {},
   "outputs": [
    {
     "name": "stdout",
     "output_type": "stream",
     "text": [
      "0.6180349003715608\n"
     ]
    }
   ],
   "source": [
    "from sklearn.linear_model import LinearRegression\n",
    "model = LinearRegression()\n",
    "model.fit(x_train, y_train)\n",
    "sk_y_pred = model.predict(x_test)\n",
    "print(r2_score(y_true=y_test, y_pred = sk_y_pred))"
   ]
  },
  {
   "cell_type": "markdown",
   "id": "1a2395e6",
   "metadata": {},
   "source": [
    "### (E) Visualizations"
   ]
  },
  {
   "cell_type": "markdown",
   "id": "c380e058",
   "metadata": {},
   "source": [
    "### (F) Evaluation Metrics"
   ]
  }
 ],
 "metadata": {
  "kernelspec": {
   "display_name": "base",
   "language": "python",
   "name": "python3"
  },
  "language_info": {
   "codemirror_mode": {
    "name": "ipython",
    "version": 3
   },
   "file_extension": ".py",
   "mimetype": "text/x-python",
   "name": "python",
   "nbconvert_exporter": "python",
   "pygments_lexer": "ipython3",
   "version": "3.12.7"
  }
 },
 "nbformat": 4,
 "nbformat_minor": 5
}
