{
 "cells": [
  {
   "cell_type": "markdown",
   "id": "054e0db1",
   "metadata": {},
   "source": [
    "## (1) Dataset"
   ]
  },
  {
   "cell_type": "code",
   "execution_count": 1,
   "id": "f3176e14",
   "metadata": {},
   "outputs": [],
   "source": [
    "import numpy as np\n",
    "import pandas as pd\n",
    "import matplotlib.pyplot as plt"
   ]
  },
  {
   "cell_type": "code",
   "execution_count": 2,
   "id": "a8bbfcf3",
   "metadata": {},
   "outputs": [],
   "source": [
    "train_df = pd.read_csv(\"california_housing_train.csv\")\n",
    "test_df = pd.read_csv(\"california_housing_test.csv\")"
   ]
  },
  {
   "cell_type": "code",
   "execution_count": 3,
   "id": "6c834e98",
   "metadata": {},
   "outputs": [
    {
     "data": {
      "text/html": [
       "<div>\n",
       "<style scoped>\n",
       "    .dataframe tbody tr th:only-of-type {\n",
       "        vertical-align: middle;\n",
       "    }\n",
       "\n",
       "    .dataframe tbody tr th {\n",
       "        vertical-align: top;\n",
       "    }\n",
       "\n",
       "    .dataframe thead th {\n",
       "        text-align: right;\n",
       "    }\n",
       "</style>\n",
       "<table border=\"1\" class=\"dataframe\">\n",
       "  <thead>\n",
       "    <tr style=\"text-align: right;\">\n",
       "      <th></th>\n",
       "      <th>longitude</th>\n",
       "      <th>latitude</th>\n",
       "      <th>housing_median_age</th>\n",
       "      <th>total_rooms</th>\n",
       "      <th>total_bedrooms</th>\n",
       "      <th>population</th>\n",
       "      <th>households</th>\n",
       "      <th>median_income</th>\n",
       "      <th>median_house_value</th>\n",
       "    </tr>\n",
       "  </thead>\n",
       "  <tbody>\n",
       "    <tr>\n",
       "      <th>0</th>\n",
       "      <td>-114.31</td>\n",
       "      <td>34.19</td>\n",
       "      <td>15.0</td>\n",
       "      <td>5612.0</td>\n",
       "      <td>1283.0</td>\n",
       "      <td>1015.0</td>\n",
       "      <td>472.0</td>\n",
       "      <td>1.4936</td>\n",
       "      <td>66900.0</td>\n",
       "    </tr>\n",
       "    <tr>\n",
       "      <th>1</th>\n",
       "      <td>-114.47</td>\n",
       "      <td>34.40</td>\n",
       "      <td>19.0</td>\n",
       "      <td>7650.0</td>\n",
       "      <td>1901.0</td>\n",
       "      <td>1129.0</td>\n",
       "      <td>463.0</td>\n",
       "      <td>1.8200</td>\n",
       "      <td>80100.0</td>\n",
       "    </tr>\n",
       "    <tr>\n",
       "      <th>2</th>\n",
       "      <td>-114.56</td>\n",
       "      <td>33.69</td>\n",
       "      <td>17.0</td>\n",
       "      <td>720.0</td>\n",
       "      <td>174.0</td>\n",
       "      <td>333.0</td>\n",
       "      <td>117.0</td>\n",
       "      <td>1.6509</td>\n",
       "      <td>85700.0</td>\n",
       "    </tr>\n",
       "    <tr>\n",
       "      <th>3</th>\n",
       "      <td>-114.57</td>\n",
       "      <td>33.64</td>\n",
       "      <td>14.0</td>\n",
       "      <td>1501.0</td>\n",
       "      <td>337.0</td>\n",
       "      <td>515.0</td>\n",
       "      <td>226.0</td>\n",
       "      <td>3.1917</td>\n",
       "      <td>73400.0</td>\n",
       "    </tr>\n",
       "    <tr>\n",
       "      <th>4</th>\n",
       "      <td>-114.57</td>\n",
       "      <td>33.57</td>\n",
       "      <td>20.0</td>\n",
       "      <td>1454.0</td>\n",
       "      <td>326.0</td>\n",
       "      <td>624.0</td>\n",
       "      <td>262.0</td>\n",
       "      <td>1.9250</td>\n",
       "      <td>65500.0</td>\n",
       "    </tr>\n",
       "  </tbody>\n",
       "</table>\n",
       "</div>"
      ],
      "text/plain": [
       "   longitude  latitude  housing_median_age  total_rooms  total_bedrooms  \\\n",
       "0    -114.31     34.19                15.0       5612.0          1283.0   \n",
       "1    -114.47     34.40                19.0       7650.0          1901.0   \n",
       "2    -114.56     33.69                17.0        720.0           174.0   \n",
       "3    -114.57     33.64                14.0       1501.0           337.0   \n",
       "4    -114.57     33.57                20.0       1454.0           326.0   \n",
       "\n",
       "   population  households  median_income  median_house_value  \n",
       "0      1015.0       472.0         1.4936             66900.0  \n",
       "1      1129.0       463.0         1.8200             80100.0  \n",
       "2       333.0       117.0         1.6509             85700.0  \n",
       "3       515.0       226.0         3.1917             73400.0  \n",
       "4       624.0       262.0         1.9250             65500.0  "
      ]
     },
     "execution_count": 3,
     "metadata": {},
     "output_type": "execute_result"
    }
   ],
   "source": [
    "train_df.head()"
   ]
  },
  {
   "cell_type": "code",
   "execution_count": 4,
   "id": "81b35a43",
   "metadata": {},
   "outputs": [
    {
     "data": {
      "text/html": [
       "<div>\n",
       "<style scoped>\n",
       "    .dataframe tbody tr th:only-of-type {\n",
       "        vertical-align: middle;\n",
       "    }\n",
       "\n",
       "    .dataframe tbody tr th {\n",
       "        vertical-align: top;\n",
       "    }\n",
       "\n",
       "    .dataframe thead th {\n",
       "        text-align: right;\n",
       "    }\n",
       "</style>\n",
       "<table border=\"1\" class=\"dataframe\">\n",
       "  <thead>\n",
       "    <tr style=\"text-align: right;\">\n",
       "      <th></th>\n",
       "      <th>longitude</th>\n",
       "      <th>latitude</th>\n",
       "      <th>housing_median_age</th>\n",
       "      <th>total_rooms</th>\n",
       "      <th>total_bedrooms</th>\n",
       "      <th>population</th>\n",
       "      <th>households</th>\n",
       "      <th>median_income</th>\n",
       "      <th>median_house_value</th>\n",
       "    </tr>\n",
       "  </thead>\n",
       "  <tbody>\n",
       "    <tr>\n",
       "      <th>0</th>\n",
       "      <td>-122.05</td>\n",
       "      <td>37.37</td>\n",
       "      <td>27.0</td>\n",
       "      <td>3885.0</td>\n",
       "      <td>661.0</td>\n",
       "      <td>1537.0</td>\n",
       "      <td>606.0</td>\n",
       "      <td>6.6085</td>\n",
       "      <td>344700.0</td>\n",
       "    </tr>\n",
       "    <tr>\n",
       "      <th>1</th>\n",
       "      <td>-118.30</td>\n",
       "      <td>34.26</td>\n",
       "      <td>43.0</td>\n",
       "      <td>1510.0</td>\n",
       "      <td>310.0</td>\n",
       "      <td>809.0</td>\n",
       "      <td>277.0</td>\n",
       "      <td>3.5990</td>\n",
       "      <td>176500.0</td>\n",
       "    </tr>\n",
       "    <tr>\n",
       "      <th>2</th>\n",
       "      <td>-117.81</td>\n",
       "      <td>33.78</td>\n",
       "      <td>27.0</td>\n",
       "      <td>3589.0</td>\n",
       "      <td>507.0</td>\n",
       "      <td>1484.0</td>\n",
       "      <td>495.0</td>\n",
       "      <td>5.7934</td>\n",
       "      <td>270500.0</td>\n",
       "    </tr>\n",
       "    <tr>\n",
       "      <th>3</th>\n",
       "      <td>-118.36</td>\n",
       "      <td>33.82</td>\n",
       "      <td>28.0</td>\n",
       "      <td>67.0</td>\n",
       "      <td>15.0</td>\n",
       "      <td>49.0</td>\n",
       "      <td>11.0</td>\n",
       "      <td>6.1359</td>\n",
       "      <td>330000.0</td>\n",
       "    </tr>\n",
       "    <tr>\n",
       "      <th>4</th>\n",
       "      <td>-119.67</td>\n",
       "      <td>36.33</td>\n",
       "      <td>19.0</td>\n",
       "      <td>1241.0</td>\n",
       "      <td>244.0</td>\n",
       "      <td>850.0</td>\n",
       "      <td>237.0</td>\n",
       "      <td>2.9375</td>\n",
       "      <td>81700.0</td>\n",
       "    </tr>\n",
       "  </tbody>\n",
       "</table>\n",
       "</div>"
      ],
      "text/plain": [
       "   longitude  latitude  housing_median_age  total_rooms  total_bedrooms  \\\n",
       "0    -122.05     37.37                27.0       3885.0           661.0   \n",
       "1    -118.30     34.26                43.0       1510.0           310.0   \n",
       "2    -117.81     33.78                27.0       3589.0           507.0   \n",
       "3    -118.36     33.82                28.0         67.0            15.0   \n",
       "4    -119.67     36.33                19.0       1241.0           244.0   \n",
       "\n",
       "   population  households  median_income  median_house_value  \n",
       "0      1537.0       606.0         6.6085            344700.0  \n",
       "1       809.0       277.0         3.5990            176500.0  \n",
       "2      1484.0       495.0         5.7934            270500.0  \n",
       "3        49.0        11.0         6.1359            330000.0  \n",
       "4       850.0       237.0         2.9375             81700.0  "
      ]
     },
     "execution_count": 4,
     "metadata": {},
     "output_type": "execute_result"
    }
   ],
   "source": [
    "test_df.head()"
   ]
  },
  {
   "cell_type": "markdown",
   "id": "043e5edf",
   "metadata": {},
   "source": [
    "## (2) Tasks"
   ]
  },
  {
   "cell_type": "markdown",
   "id": "a5035b15",
   "metadata": {},
   "source": [
    "### (A) Data preprocessing"
   ]
  },
  {
   "cell_type": "markdown",
   "id": "96865547",
   "metadata": {},
   "source": [
    "#### Checking Null Values"
   ]
  },
  {
   "cell_type": "code",
   "execution_count": 5,
   "id": "374ceddf",
   "metadata": {},
   "outputs": [
    {
     "data": {
      "text/plain": [
       "longitude             0\n",
       "latitude              0\n",
       "housing_median_age    0\n",
       "total_rooms           0\n",
       "total_bedrooms        0\n",
       "population            0\n",
       "households            0\n",
       "median_income         0\n",
       "median_house_value    0\n",
       "dtype: int64"
      ]
     },
     "execution_count": 5,
     "metadata": {},
     "output_type": "execute_result"
    }
   ],
   "source": [
    "## checking null values in train dataset\n",
    "train_df.isnull().sum()"
   ]
  },
  {
   "cell_type": "code",
   "execution_count": 6,
   "id": "096375af",
   "metadata": {},
   "outputs": [
    {
     "data": {
      "text/plain": [
       "longitude             0\n",
       "latitude              0\n",
       "housing_median_age    0\n",
       "total_rooms           0\n",
       "total_bedrooms        0\n",
       "population            0\n",
       "households            0\n",
       "median_income         0\n",
       "median_house_value    0\n",
       "dtype: int64"
      ]
     },
     "execution_count": 6,
     "metadata": {},
     "output_type": "execute_result"
    }
   ],
   "source": [
    "## checking null values in test dataset\n",
    "test_df.isnull().sum()\n",
    "\n",
    "## thus we dont have to deal with any null or missing values"
   ]
  },
  {
   "cell_type": "markdown",
   "id": "476f23cd",
   "metadata": {},
   "source": [
    "#### Dividing the datasets into x_train, x_test, y_train, y_test"
   ]
  },
  {
   "cell_type": "code",
   "execution_count": 7,
   "id": "8705098b",
   "metadata": {},
   "outputs": [],
   "source": [
    "x_train = np.array(train_df.iloc[:, :-1])\n",
    "y_train = np.array(train_df.iloc[:, -1]).reshape(-1,1)"
   ]
  },
  {
   "cell_type": "code",
   "execution_count": 8,
   "id": "5e03bde3",
   "metadata": {},
   "outputs": [
    {
     "data": {
      "text/plain": [
       "array([[-114.31  ,   34.19  ,   15.    , ..., 1015.    ,  472.    ,\n",
       "           1.4936],\n",
       "       [-114.47  ,   34.4   ,   19.    , ..., 1129.    ,  463.    ,\n",
       "           1.82  ],\n",
       "       [-114.56  ,   33.69  ,   17.    , ...,  333.    ,  117.    ,\n",
       "           1.6509],\n",
       "       ...,\n",
       "       [-124.3   ,   41.84  ,   17.    , ..., 1244.    ,  456.    ,\n",
       "           3.0313],\n",
       "       [-124.3   ,   41.8   ,   19.    , ..., 1298.    ,  478.    ,\n",
       "           1.9797],\n",
       "       [-124.35  ,   40.54  ,   52.    , ...,  806.    ,  270.    ,\n",
       "           3.0147]])"
      ]
     },
     "execution_count": 8,
     "metadata": {},
     "output_type": "execute_result"
    }
   ],
   "source": [
    "x_train"
   ]
  },
  {
   "cell_type": "code",
   "execution_count": 9,
   "id": "c1cd888d",
   "metadata": {},
   "outputs": [
    {
     "data": {
      "text/plain": [
       "array([[ 66900.],\n",
       "       [ 80100.],\n",
       "       [ 85700.],\n",
       "       ...,\n",
       "       [103600.],\n",
       "       [ 85800.],\n",
       "       [ 94600.]])"
      ]
     },
     "execution_count": 9,
     "metadata": {},
     "output_type": "execute_result"
    }
   ],
   "source": [
    "y_train"
   ]
  },
  {
   "cell_type": "code",
   "execution_count": 10,
   "id": "1a44c465",
   "metadata": {},
   "outputs": [],
   "source": [
    "x_test = np.array(test_df.iloc[:, :-1])\n",
    "y_test = np.array(test_df.iloc[:, -1]).reshape(-1, 1)"
   ]
  },
  {
   "cell_type": "code",
   "execution_count": 11,
   "id": "8c66175e",
   "metadata": {},
   "outputs": [
    {
     "data": {
      "text/plain": [
       "array([[-122.05  ,   37.37  ,   27.    , ..., 1537.    ,  606.    ,\n",
       "           6.6085],\n",
       "       [-118.3   ,   34.26  ,   43.    , ...,  809.    ,  277.    ,\n",
       "           3.599 ],\n",
       "       [-117.81  ,   33.78  ,   27.    , ..., 1484.    ,  495.    ,\n",
       "           5.7934],\n",
       "       ...,\n",
       "       [-119.7   ,   36.3   ,   10.    , ...,  693.    ,  220.    ,\n",
       "           2.2895],\n",
       "       [-117.12  ,   34.1   ,   40.    , ...,   46.    ,   14.    ,\n",
       "           3.2708],\n",
       "       [-119.63  ,   34.42  ,   42.    , ...,  753.    ,  260.    ,\n",
       "           8.5608]])"
      ]
     },
     "execution_count": 11,
     "metadata": {},
     "output_type": "execute_result"
    }
   ],
   "source": [
    "x_test"
   ]
  },
  {
   "cell_type": "code",
   "execution_count": 12,
   "id": "07295237",
   "metadata": {},
   "outputs": [
    {
     "data": {
      "text/plain": [
       "array([[344700.],\n",
       "       [176500.],\n",
       "       [270500.],\n",
       "       ...,\n",
       "       [ 62000.],\n",
       "       [162500.],\n",
       "       [500001.]])"
      ]
     },
     "execution_count": 12,
     "metadata": {},
     "output_type": "execute_result"
    }
   ],
   "source": [
    "y_test"
   ]
  },
  {
   "cell_type": "markdown",
   "id": "fd0404c7",
   "metadata": {},
   "source": [
    "#### Implementing Standardization from scratch"
   ]
  },
  {
   "cell_type": "markdown",
   "id": "0fe7d709",
   "metadata": {},
   "source": [
    "#### We have a mathematical formula for standardization\n",
    "#### Z-Score = (Current_value - Mean) / Standard Deviation."
   ]
  },
  {
   "cell_type": "code",
   "execution_count": 13,
   "id": "46a4b512",
   "metadata": {},
   "outputs": [],
   "source": [
    "def Standardization(array): ## for the dependent variables\n",
    "    rows, cols = array.shape  \n",
    "    res = np.zeros((rows, cols))\n",
    "    for col in range(cols):\n",
    "        feature = array[:, col]  \n",
    "        feature = (feature - np.mean(feature)) / np.std(feature)\n",
    "        res[:, col] = feature   \n",
    "    return res"
   ]
  },
  {
   "cell_type": "code",
   "execution_count": 14,
   "id": "29a31181",
   "metadata": {},
   "outputs": [],
   "source": [
    "## Standardization on the features\n",
    "\n",
    "scaled_x_test = Standardization(x_test)\n",
    "scaled_x_train = Standardization(x_train)"
   ]
  },
  {
   "cell_type": "code",
   "execution_count": 15,
   "id": "69e53d8b",
   "metadata": {},
   "outputs": [
    {
     "data": {
      "text/plain": [
       "array([[ 2.619365  , -0.67152023, -1.07967114, ..., -0.36118401,\n",
       "        -0.07599796, -1.25254316],\n",
       "       [ 2.53956878, -0.57326437, -0.76187201, ..., -0.26186523,\n",
       "        -0.09940441, -1.08148298],\n",
       "       [ 2.4946834 , -0.90546278, -0.92077158, ..., -0.95535424,\n",
       "        -0.99925206, -1.17010515],\n",
       "       ...,\n",
       "       [-2.36291168,  2.90780067, -0.92077158, ..., -0.16167524,\n",
       "        -0.11760942, -0.44666313],\n",
       "       [-2.36291168,  2.88908527, -0.76187201, ..., -0.1146295 ,\n",
       "        -0.06039367, -0.99778717],\n",
       "       [-2.387848  ,  2.29955006,  1.85997083, ..., -0.54326844,\n",
       "        -0.60134255, -0.45536288]])"
      ]
     },
     "execution_count": 15,
     "metadata": {},
     "output_type": "execute_result"
    }
   ],
   "source": [
    "scaled_x_train"
   ]
  },
  {
   "cell_type": "code",
   "execution_count": 16,
   "id": "42c516b5",
   "metadata": {},
   "outputs": [
    {
     "data": {
      "text/plain": [
       "array([[-1.23372874,  0.81463305, -0.14699983, ...,  0.13024561,\n",
       "         0.31773437,  1.51074547],\n",
       "       [ 0.64634391, -0.64593087,  1.12756514, ..., -0.57629585,\n",
       "        -0.58274291, -0.11232419],\n",
       "       [ 0.89200673, -0.87135553, -0.14699983, ...,  0.07880784,\n",
       "         0.01392592,  1.0711495 ],\n",
       "       ...,\n",
       "       [-0.05554988,  0.31212392, -1.5012251 , ..., -0.68887663,\n",
       "        -0.73875265, -0.81855768],\n",
       "       [ 1.2379401 , -0.72107242,  0.88858421, ..., -1.31680565,\n",
       "        -1.30257733, -0.2893275 ],\n",
       "       [-0.02045519, -0.57078932,  1.04790483, ..., -0.63064519,\n",
       "        -0.62927213,  2.56365089]])"
      ]
     },
     "execution_count": 16,
     "metadata": {},
     "output_type": "execute_result"
    }
   ],
   "source": [
    "scaled_x_test"
   ]
  },
  {
   "cell_type": "markdown",
   "id": "71769e01",
   "metadata": {},
   "source": [
    "### (B) Implementing Normal Equation"
   ]
  },
  {
   "cell_type": "code",
   "execution_count": 17,
   "id": "74be050d",
   "metadata": {},
   "outputs": [],
   "source": [
    "class NormalEquation:\n",
    "    def __init__(self):\n",
    "        pass\n",
    "\n",
    "    def fit(self, x_train, y_train):\n",
    "        modified_x_train = np.c_[np.ones((x_train.shape[0], 1)), x_train] ## adding a column of ones (adding the intercept)\n",
    "        transposed_modified_x_train = np.transpose(modified_x_train)\n",
    "        theta = np.linalg.inv((transposed_modified_x_train @ modified_x_train)) @ (transposed_modified_x_train @ y_train)\n",
    "        self.theta = theta\n",
    "\n",
    "    def predict(self, x_test):\n",
    "        modified_x_test = np.c_[np.ones((x_test.shape[0], 1)), x_test]\n",
    "        return modified_x_test@(self.theta)"
   ]
  },
  {
   "cell_type": "code",
   "execution_count": 18,
   "id": "bb70b809",
   "metadata": {},
   "outputs": [],
   "source": [
    "model_normal_equation = NormalEquation()\n",
    "model_normal_equation.fit(x_train=scaled_x_train, y_train=y_train)"
   ]
  },
  {
   "cell_type": "code",
   "execution_count": 19,
   "id": "3ce99a6d",
   "metadata": {},
   "outputs": [
    {
     "data": {
      "text/plain": [
       "array([[358460.00878369],\n",
       "       [216569.51471133],\n",
       "       [276384.95549539],\n",
       "       ...,\n",
       "       [ 90664.64488211],\n",
       "       [151950.61857716],\n",
       "       [466849.37460678]])"
      ]
     },
     "execution_count": 19,
     "metadata": {},
     "output_type": "execute_result"
    }
   ],
   "source": [
    "y_pred_normal_equation = model_normal_equation.predict(x_test=scaled_x_test)\n",
    "y_pred_normal_equation"
   ]
  },
  {
   "cell_type": "markdown",
   "id": "b5c60663",
   "metadata": {},
   "source": [
    "### (C) Implementing Batch Gradient Descent"
   ]
  },
  {
   "cell_type": "code",
   "execution_count": 20,
   "id": "bdadfc77",
   "metadata": {},
   "outputs": [],
   "source": [
    "class GradientDescent:\n",
    "    def __init__(self):\n",
    "        pass\n",
    "\n",
    "    def fit(self, x_train, y_train, epochs = 1000, learning_rate = 0.01):\n",
    "        rows, cols = x_train.shape\n",
    "        modified_x_train = np.c_[np.ones((rows, 1)), x_train] ## adding a column of ones (adding the intercept)\n",
    "        modified_x_test = np.c_[np.ones((x_test.shape[0], 1)), x_test] \n",
    "        transpose_modified_x_train = np.transpose(modified_x_train)\n",
    "        theta = np.zeros((cols+1, 1))\n",
    "\n",
    "        loss_per_iterations = [] ## for plotting loss against iterations\n",
    "        weights = [] ## needed to plot the gradient descent curve\n",
    "        val_loss = [] ## needed to plot the validation loss\n",
    "\n",
    "        for i in range(epochs):\n",
    "            y_pred_before = modified_x_train@theta\n",
    "            theta-=learning_rate*(transpose_modified_x_train@(y_pred_before - y_train))/rows\n",
    "\n",
    "            y_pred_after = modified_x_train@theta\n",
    "            loss_per_iterations.append(np.mean(((y_pred_after - y_train) ** 2)))\n",
    "            weights.append(theta[5][0])\n",
    "            val_loss.append(np.mean(((modified_x_test@theta) - y_test)**2))\n",
    "\n",
    "        self.loss_per_iterations = loss_per_iterations\n",
    "        self.theta = theta\n",
    "        self.weights = weights\n",
    "        self.val_loss = val_loss\n",
    "        \n",
    "    def predict(self, x_test):\n",
    "        modified_x_test = np.c_[np.ones((x_test.shape[0], 1)), x_test]\n",
    "        return modified_x_test@(self.theta)"
   ]
  },
  {
   "cell_type": "code",
   "execution_count": 21,
   "id": "0776c6e0",
   "metadata": {},
   "outputs": [],
   "source": [
    "model_gradient_descent = GradientDescent()\n",
    "model_gradient_descent.fit(x_train=scaled_x_train, y_train=y_train)"
   ]
  },
  {
   "cell_type": "code",
   "execution_count": 22,
   "id": "bcd9557f",
   "metadata": {},
   "outputs": [
    {
     "data": {
      "text/plain": [
       "array([[344737.26708361],\n",
       "       [221052.68780685],\n",
       "       [286959.15684752],\n",
       "       ...,\n",
       "       [ 90895.26259309],\n",
       "       [175317.53018716],\n",
       "       [454215.5264196 ]])"
      ]
     },
     "execution_count": 22,
     "metadata": {},
     "output_type": "execute_result"
    }
   ],
   "source": [
    "y_pred_gradient_descent = model_gradient_descent.predict(scaled_x_test)\n",
    "y_pred_gradient_descent"
   ]
  },
  {
   "cell_type": "markdown",
   "id": "9a3ef0ba",
   "metadata": {},
   "source": [
    "### (D) Using Scikit-Learn"
   ]
  },
  {
   "cell_type": "code",
   "execution_count": 23,
   "id": "21cddc06",
   "metadata": {},
   "outputs": [],
   "source": [
    "## The comparision of metrics across the three implementations (normal equation, gradient descent, sklearn) is done at the last markdown."
   ]
  },
  {
   "cell_type": "code",
   "execution_count": 24,
   "id": "6d902a95",
   "metadata": {},
   "outputs": [
    {
     "data": {
      "text/html": [
       "<style>#sk-container-id-1 {\n",
       "  /* Definition of color scheme common for light and dark mode */\n",
       "  --sklearn-color-text: black;\n",
       "  --sklearn-color-line: gray;\n",
       "  /* Definition of color scheme for unfitted estimators */\n",
       "  --sklearn-color-unfitted-level-0: #fff5e6;\n",
       "  --sklearn-color-unfitted-level-1: #f6e4d2;\n",
       "  --sklearn-color-unfitted-level-2: #ffe0b3;\n",
       "  --sklearn-color-unfitted-level-3: chocolate;\n",
       "  /* Definition of color scheme for fitted estimators */\n",
       "  --sklearn-color-fitted-level-0: #f0f8ff;\n",
       "  --sklearn-color-fitted-level-1: #d4ebff;\n",
       "  --sklearn-color-fitted-level-2: #b3dbfd;\n",
       "  --sklearn-color-fitted-level-3: cornflowerblue;\n",
       "\n",
       "  /* Specific color for light theme */\n",
       "  --sklearn-color-text-on-default-background: var(--sg-text-color, var(--theme-code-foreground, var(--jp-content-font-color1, black)));\n",
       "  --sklearn-color-background: var(--sg-background-color, var(--theme-background, var(--jp-layout-color0, white)));\n",
       "  --sklearn-color-border-box: var(--sg-text-color, var(--theme-code-foreground, var(--jp-content-font-color1, black)));\n",
       "  --sklearn-color-icon: #696969;\n",
       "\n",
       "  @media (prefers-color-scheme: dark) {\n",
       "    /* Redefinition of color scheme for dark theme */\n",
       "    --sklearn-color-text-on-default-background: var(--sg-text-color, var(--theme-code-foreground, var(--jp-content-font-color1, white)));\n",
       "    --sklearn-color-background: var(--sg-background-color, var(--theme-background, var(--jp-layout-color0, #111)));\n",
       "    --sklearn-color-border-box: var(--sg-text-color, var(--theme-code-foreground, var(--jp-content-font-color1, white)));\n",
       "    --sklearn-color-icon: #878787;\n",
       "  }\n",
       "}\n",
       "\n",
       "#sk-container-id-1 {\n",
       "  color: var(--sklearn-color-text);\n",
       "}\n",
       "\n",
       "#sk-container-id-1 pre {\n",
       "  padding: 0;\n",
       "}\n",
       "\n",
       "#sk-container-id-1 input.sk-hidden--visually {\n",
       "  border: 0;\n",
       "  clip: rect(1px 1px 1px 1px);\n",
       "  clip: rect(1px, 1px, 1px, 1px);\n",
       "  height: 1px;\n",
       "  margin: -1px;\n",
       "  overflow: hidden;\n",
       "  padding: 0;\n",
       "  position: absolute;\n",
       "  width: 1px;\n",
       "}\n",
       "\n",
       "#sk-container-id-1 div.sk-dashed-wrapped {\n",
       "  border: 1px dashed var(--sklearn-color-line);\n",
       "  margin: 0 0.4em 0.5em 0.4em;\n",
       "  box-sizing: border-box;\n",
       "  padding-bottom: 0.4em;\n",
       "  background-color: var(--sklearn-color-background);\n",
       "}\n",
       "\n",
       "#sk-container-id-1 div.sk-container {\n",
       "  /* jupyter's `normalize.less` sets `[hidden] { display: none; }`\n",
       "     but bootstrap.min.css set `[hidden] { display: none !important; }`\n",
       "     so we also need the `!important` here to be able to override the\n",
       "     default hidden behavior on the sphinx rendered scikit-learn.org.\n",
       "     See: https://github.com/scikit-learn/scikit-learn/issues/21755 */\n",
       "  display: inline-block !important;\n",
       "  position: relative;\n",
       "}\n",
       "\n",
       "#sk-container-id-1 div.sk-text-repr-fallback {\n",
       "  display: none;\n",
       "}\n",
       "\n",
       "div.sk-parallel-item,\n",
       "div.sk-serial,\n",
       "div.sk-item {\n",
       "  /* draw centered vertical line to link estimators */\n",
       "  background-image: linear-gradient(var(--sklearn-color-text-on-default-background), var(--sklearn-color-text-on-default-background));\n",
       "  background-size: 2px 100%;\n",
       "  background-repeat: no-repeat;\n",
       "  background-position: center center;\n",
       "}\n",
       "\n",
       "/* Parallel-specific style estimator block */\n",
       "\n",
       "#sk-container-id-1 div.sk-parallel-item::after {\n",
       "  content: \"\";\n",
       "  width: 100%;\n",
       "  border-bottom: 2px solid var(--sklearn-color-text-on-default-background);\n",
       "  flex-grow: 1;\n",
       "}\n",
       "\n",
       "#sk-container-id-1 div.sk-parallel {\n",
       "  display: flex;\n",
       "  align-items: stretch;\n",
       "  justify-content: center;\n",
       "  background-color: var(--sklearn-color-background);\n",
       "  position: relative;\n",
       "}\n",
       "\n",
       "#sk-container-id-1 div.sk-parallel-item {\n",
       "  display: flex;\n",
       "  flex-direction: column;\n",
       "}\n",
       "\n",
       "#sk-container-id-1 div.sk-parallel-item:first-child::after {\n",
       "  align-self: flex-end;\n",
       "  width: 50%;\n",
       "}\n",
       "\n",
       "#sk-container-id-1 div.sk-parallel-item:last-child::after {\n",
       "  align-self: flex-start;\n",
       "  width: 50%;\n",
       "}\n",
       "\n",
       "#sk-container-id-1 div.sk-parallel-item:only-child::after {\n",
       "  width: 0;\n",
       "}\n",
       "\n",
       "/* Serial-specific style estimator block */\n",
       "\n",
       "#sk-container-id-1 div.sk-serial {\n",
       "  display: flex;\n",
       "  flex-direction: column;\n",
       "  align-items: center;\n",
       "  background-color: var(--sklearn-color-background);\n",
       "  padding-right: 1em;\n",
       "  padding-left: 1em;\n",
       "}\n",
       "\n",
       "\n",
       "/* Toggleable style: style used for estimator/Pipeline/ColumnTransformer box that is\n",
       "clickable and can be expanded/collapsed.\n",
       "- Pipeline and ColumnTransformer use this feature and define the default style\n",
       "- Estimators will overwrite some part of the style using the `sk-estimator` class\n",
       "*/\n",
       "\n",
       "/* Pipeline and ColumnTransformer style (default) */\n",
       "\n",
       "#sk-container-id-1 div.sk-toggleable {\n",
       "  /* Default theme specific background. It is overwritten whether we have a\n",
       "  specific estimator or a Pipeline/ColumnTransformer */\n",
       "  background-color: var(--sklearn-color-background);\n",
       "}\n",
       "\n",
       "/* Toggleable label */\n",
       "#sk-container-id-1 label.sk-toggleable__label {\n",
       "  cursor: pointer;\n",
       "  display: block;\n",
       "  width: 100%;\n",
       "  margin-bottom: 0;\n",
       "  padding: 0.5em;\n",
       "  box-sizing: border-box;\n",
       "  text-align: center;\n",
       "}\n",
       "\n",
       "#sk-container-id-1 label.sk-toggleable__label-arrow:before {\n",
       "  /* Arrow on the left of the label */\n",
       "  content: \"▸\";\n",
       "  float: left;\n",
       "  margin-right: 0.25em;\n",
       "  color: var(--sklearn-color-icon);\n",
       "}\n",
       "\n",
       "#sk-container-id-1 label.sk-toggleable__label-arrow:hover:before {\n",
       "  color: var(--sklearn-color-text);\n",
       "}\n",
       "\n",
       "/* Toggleable content - dropdown */\n",
       "\n",
       "#sk-container-id-1 div.sk-toggleable__content {\n",
       "  max-height: 0;\n",
       "  max-width: 0;\n",
       "  overflow: hidden;\n",
       "  text-align: left;\n",
       "  /* unfitted */\n",
       "  background-color: var(--sklearn-color-unfitted-level-0);\n",
       "}\n",
       "\n",
       "#sk-container-id-1 div.sk-toggleable__content.fitted {\n",
       "  /* fitted */\n",
       "  background-color: var(--sklearn-color-fitted-level-0);\n",
       "}\n",
       "\n",
       "#sk-container-id-1 div.sk-toggleable__content pre {\n",
       "  margin: 0.2em;\n",
       "  border-radius: 0.25em;\n",
       "  color: var(--sklearn-color-text);\n",
       "  /* unfitted */\n",
       "  background-color: var(--sklearn-color-unfitted-level-0);\n",
       "}\n",
       "\n",
       "#sk-container-id-1 div.sk-toggleable__content.fitted pre {\n",
       "  /* unfitted */\n",
       "  background-color: var(--sklearn-color-fitted-level-0);\n",
       "}\n",
       "\n",
       "#sk-container-id-1 input.sk-toggleable__control:checked~div.sk-toggleable__content {\n",
       "  /* Expand drop-down */\n",
       "  max-height: 200px;\n",
       "  max-width: 100%;\n",
       "  overflow: auto;\n",
       "}\n",
       "\n",
       "#sk-container-id-1 input.sk-toggleable__control:checked~label.sk-toggleable__label-arrow:before {\n",
       "  content: \"▾\";\n",
       "}\n",
       "\n",
       "/* Pipeline/ColumnTransformer-specific style */\n",
       "\n",
       "#sk-container-id-1 div.sk-label input.sk-toggleable__control:checked~label.sk-toggleable__label {\n",
       "  color: var(--sklearn-color-text);\n",
       "  background-color: var(--sklearn-color-unfitted-level-2);\n",
       "}\n",
       "\n",
       "#sk-container-id-1 div.sk-label.fitted input.sk-toggleable__control:checked~label.sk-toggleable__label {\n",
       "  background-color: var(--sklearn-color-fitted-level-2);\n",
       "}\n",
       "\n",
       "/* Estimator-specific style */\n",
       "\n",
       "/* Colorize estimator box */\n",
       "#sk-container-id-1 div.sk-estimator input.sk-toggleable__control:checked~label.sk-toggleable__label {\n",
       "  /* unfitted */\n",
       "  background-color: var(--sklearn-color-unfitted-level-2);\n",
       "}\n",
       "\n",
       "#sk-container-id-1 div.sk-estimator.fitted input.sk-toggleable__control:checked~label.sk-toggleable__label {\n",
       "  /* fitted */\n",
       "  background-color: var(--sklearn-color-fitted-level-2);\n",
       "}\n",
       "\n",
       "#sk-container-id-1 div.sk-label label.sk-toggleable__label,\n",
       "#sk-container-id-1 div.sk-label label {\n",
       "  /* The background is the default theme color */\n",
       "  color: var(--sklearn-color-text-on-default-background);\n",
       "}\n",
       "\n",
       "/* On hover, darken the color of the background */\n",
       "#sk-container-id-1 div.sk-label:hover label.sk-toggleable__label {\n",
       "  color: var(--sklearn-color-text);\n",
       "  background-color: var(--sklearn-color-unfitted-level-2);\n",
       "}\n",
       "\n",
       "/* Label box, darken color on hover, fitted */\n",
       "#sk-container-id-1 div.sk-label.fitted:hover label.sk-toggleable__label.fitted {\n",
       "  color: var(--sklearn-color-text);\n",
       "  background-color: var(--sklearn-color-fitted-level-2);\n",
       "}\n",
       "\n",
       "/* Estimator label */\n",
       "\n",
       "#sk-container-id-1 div.sk-label label {\n",
       "  font-family: monospace;\n",
       "  font-weight: bold;\n",
       "  display: inline-block;\n",
       "  line-height: 1.2em;\n",
       "}\n",
       "\n",
       "#sk-container-id-1 div.sk-label-container {\n",
       "  text-align: center;\n",
       "}\n",
       "\n",
       "/* Estimator-specific */\n",
       "#sk-container-id-1 div.sk-estimator {\n",
       "  font-family: monospace;\n",
       "  border: 1px dotted var(--sklearn-color-border-box);\n",
       "  border-radius: 0.25em;\n",
       "  box-sizing: border-box;\n",
       "  margin-bottom: 0.5em;\n",
       "  /* unfitted */\n",
       "  background-color: var(--sklearn-color-unfitted-level-0);\n",
       "}\n",
       "\n",
       "#sk-container-id-1 div.sk-estimator.fitted {\n",
       "  /* fitted */\n",
       "  background-color: var(--sklearn-color-fitted-level-0);\n",
       "}\n",
       "\n",
       "/* on hover */\n",
       "#sk-container-id-1 div.sk-estimator:hover {\n",
       "  /* unfitted */\n",
       "  background-color: var(--sklearn-color-unfitted-level-2);\n",
       "}\n",
       "\n",
       "#sk-container-id-1 div.sk-estimator.fitted:hover {\n",
       "  /* fitted */\n",
       "  background-color: var(--sklearn-color-fitted-level-2);\n",
       "}\n",
       "\n",
       "/* Specification for estimator info (e.g. \"i\" and \"?\") */\n",
       "\n",
       "/* Common style for \"i\" and \"?\" */\n",
       "\n",
       ".sk-estimator-doc-link,\n",
       "a:link.sk-estimator-doc-link,\n",
       "a:visited.sk-estimator-doc-link {\n",
       "  float: right;\n",
       "  font-size: smaller;\n",
       "  line-height: 1em;\n",
       "  font-family: monospace;\n",
       "  background-color: var(--sklearn-color-background);\n",
       "  border-radius: 1em;\n",
       "  height: 1em;\n",
       "  width: 1em;\n",
       "  text-decoration: none !important;\n",
       "  margin-left: 1ex;\n",
       "  /* unfitted */\n",
       "  border: var(--sklearn-color-unfitted-level-1) 1pt solid;\n",
       "  color: var(--sklearn-color-unfitted-level-1);\n",
       "}\n",
       "\n",
       ".sk-estimator-doc-link.fitted,\n",
       "a:link.sk-estimator-doc-link.fitted,\n",
       "a:visited.sk-estimator-doc-link.fitted {\n",
       "  /* fitted */\n",
       "  border: var(--sklearn-color-fitted-level-1) 1pt solid;\n",
       "  color: var(--sklearn-color-fitted-level-1);\n",
       "}\n",
       "\n",
       "/* On hover */\n",
       "div.sk-estimator:hover .sk-estimator-doc-link:hover,\n",
       ".sk-estimator-doc-link:hover,\n",
       "div.sk-label-container:hover .sk-estimator-doc-link:hover,\n",
       ".sk-estimator-doc-link:hover {\n",
       "  /* unfitted */\n",
       "  background-color: var(--sklearn-color-unfitted-level-3);\n",
       "  color: var(--sklearn-color-background);\n",
       "  text-decoration: none;\n",
       "}\n",
       "\n",
       "div.sk-estimator.fitted:hover .sk-estimator-doc-link.fitted:hover,\n",
       ".sk-estimator-doc-link.fitted:hover,\n",
       "div.sk-label-container:hover .sk-estimator-doc-link.fitted:hover,\n",
       ".sk-estimator-doc-link.fitted:hover {\n",
       "  /* fitted */\n",
       "  background-color: var(--sklearn-color-fitted-level-3);\n",
       "  color: var(--sklearn-color-background);\n",
       "  text-decoration: none;\n",
       "}\n",
       "\n",
       "/* Span, style for the box shown on hovering the info icon */\n",
       ".sk-estimator-doc-link span {\n",
       "  display: none;\n",
       "  z-index: 9999;\n",
       "  position: relative;\n",
       "  font-weight: normal;\n",
       "  right: .2ex;\n",
       "  padding: .5ex;\n",
       "  margin: .5ex;\n",
       "  width: min-content;\n",
       "  min-width: 20ex;\n",
       "  max-width: 50ex;\n",
       "  color: var(--sklearn-color-text);\n",
       "  box-shadow: 2pt 2pt 4pt #999;\n",
       "  /* unfitted */\n",
       "  background: var(--sklearn-color-unfitted-level-0);\n",
       "  border: .5pt solid var(--sklearn-color-unfitted-level-3);\n",
       "}\n",
       "\n",
       ".sk-estimator-doc-link.fitted span {\n",
       "  /* fitted */\n",
       "  background: var(--sklearn-color-fitted-level-0);\n",
       "  border: var(--sklearn-color-fitted-level-3);\n",
       "}\n",
       "\n",
       ".sk-estimator-doc-link:hover span {\n",
       "  display: block;\n",
       "}\n",
       "\n",
       "/* \"?\"-specific style due to the `<a>` HTML tag */\n",
       "\n",
       "#sk-container-id-1 a.estimator_doc_link {\n",
       "  float: right;\n",
       "  font-size: 1rem;\n",
       "  line-height: 1em;\n",
       "  font-family: monospace;\n",
       "  background-color: var(--sklearn-color-background);\n",
       "  border-radius: 1rem;\n",
       "  height: 1rem;\n",
       "  width: 1rem;\n",
       "  text-decoration: none;\n",
       "  /* unfitted */\n",
       "  color: var(--sklearn-color-unfitted-level-1);\n",
       "  border: var(--sklearn-color-unfitted-level-1) 1pt solid;\n",
       "}\n",
       "\n",
       "#sk-container-id-1 a.estimator_doc_link.fitted {\n",
       "  /* fitted */\n",
       "  border: var(--sklearn-color-fitted-level-1) 1pt solid;\n",
       "  color: var(--sklearn-color-fitted-level-1);\n",
       "}\n",
       "\n",
       "/* On hover */\n",
       "#sk-container-id-1 a.estimator_doc_link:hover {\n",
       "  /* unfitted */\n",
       "  background-color: var(--sklearn-color-unfitted-level-3);\n",
       "  color: var(--sklearn-color-background);\n",
       "  text-decoration: none;\n",
       "}\n",
       "\n",
       "#sk-container-id-1 a.estimator_doc_link.fitted:hover {\n",
       "  /* fitted */\n",
       "  background-color: var(--sklearn-color-fitted-level-3);\n",
       "}\n",
       "</style><div id=\"sk-container-id-1\" class=\"sk-top-container\"><div class=\"sk-text-repr-fallback\"><pre>LinearRegression()</pre><b>In a Jupyter environment, please rerun this cell to show the HTML representation or trust the notebook. <br />On GitHub, the HTML representation is unable to render, please try loading this page with nbviewer.org.</b></div><div class=\"sk-container\" hidden><div class=\"sk-item\"><div class=\"sk-estimator fitted sk-toggleable\"><input class=\"sk-toggleable__control sk-hidden--visually\" id=\"sk-estimator-id-1\" type=\"checkbox\" checked><label for=\"sk-estimator-id-1\" class=\"sk-toggleable__label fitted sk-toggleable__label-arrow fitted\">&nbsp;&nbsp;LinearRegression<a class=\"sk-estimator-doc-link fitted\" rel=\"noreferrer\" target=\"_blank\" href=\"https://scikit-learn.org/1.5/modules/generated/sklearn.linear_model.LinearRegression.html\">?<span>Documentation for LinearRegression</span></a><span class=\"sk-estimator-doc-link fitted\">i<span>Fitted</span></span></label><div class=\"sk-toggleable__content fitted\"><pre>LinearRegression()</pre></div> </div></div></div></div>"
      ],
      "text/plain": [
       "LinearRegression()"
      ]
     },
     "execution_count": 24,
     "metadata": {},
     "output_type": "execute_result"
    }
   ],
   "source": [
    "from sklearn.linear_model import LinearRegression\n",
    "model_scikit_learn = LinearRegression()\n",
    "model_scikit_learn.fit(scaled_x_train, y_train)"
   ]
  },
  {
   "cell_type": "code",
   "execution_count": 25,
   "id": "e28f1729",
   "metadata": {},
   "outputs": [
    {
     "data": {
      "text/plain": [
       "array([[358460.00878369],\n",
       "       [216569.51471133],\n",
       "       [276384.95549539],\n",
       "       ...,\n",
       "       [ 90664.64488211],\n",
       "       [151950.61857716],\n",
       "       [466849.37460678]])"
      ]
     },
     "execution_count": 25,
     "metadata": {},
     "output_type": "execute_result"
    }
   ],
   "source": [
    "y_pred_scikit_learn = model_scikit_learn.predict(scaled_x_test)\n",
    "y_pred_scikit_learn"
   ]
  },
  {
   "cell_type": "markdown",
   "id": "1a2395e6",
   "metadata": {},
   "source": [
    "### (E) Visualizations"
   ]
  },
  {
   "cell_type": "markdown",
   "id": "74820bac",
   "metadata": {},
   "source": [
    "##### Plotting MSE against iteration number"
   ]
  },
  {
   "cell_type": "code",
   "execution_count": 26,
   "id": "12a88fc4",
   "metadata": {},
   "outputs": [],
   "source": [
    "curves = []\n",
    "epochs = 500\n",
    "\n",
    "## Unscaled\n",
    "for lr in [1e-7, 1e-8, 1e-9]:\n",
    "    gd = GradientDescent()\n",
    "    gd.fit(x_train=x_train, y_train=y_train, epochs=epochs, learning_rate=lr)\n",
    "    curves.append((f\"unscaled, lr={lr}\", gd.loss_per_iterations))\n",
    "\n",
    "## Scaled\n",
    "for lr in [0.1, 0.01, 0.001]:\n",
    "    gd = GradientDescent()\n",
    "    gd.fit(x_train=scaled_x_train, y_train=y_train, epochs=epochs, learning_rate=lr)\n",
    "    curves.append((f\"scaled, lr={lr}\", gd.loss_per_iterations))"
   ]
  },
  {
   "cell_type": "code",
   "execution_count": 27,
   "id": "914f0052",
   "metadata": {},
   "outputs": [
    {
     "data": {
      "image/png": "[encoded data removed]",
      "text/plain": [
       "<Figure size 1000x700 with 1 Axes>"
      ]
     },
     "metadata": {},
     "output_type": "display_data"
    }
   ],
   "source": [
    "plt.figure(figsize=(10,7))\n",
    "for label, loss in curves:\n",
    "    plt.scatter(range(len(loss)), loss, label=label)\n",
    "\n",
    "plt.xlabel(\"Iteration\")\n",
    "plt.ylabel(\"Training MSE\")\n",
    "plt.title(\"Gradient Descent: Loss vs Iterations (Scaled vs Unscaled)\")\n",
    "plt.yscale(\"linear\")\n",
    "plt.legend()\n",
    "plt.tight_layout()\n",
    "plt.show()"
   ]
  },
  {
   "cell_type": "markdown",
   "id": "a1d673c1",
   "metadata": {},
   "source": [
    "##### Plotting the Validation Loss"
   ]
  },
  {
   "cell_type": "code",
   "execution_count": 33,
   "id": "1a59f550",
   "metadata": {},
   "outputs": [
    {
     "name": "stderr",
     "output_type": "stream",
     "text": [
      "C:\\Users\\AMEY\\AppData\\Local\\Temp\\ipykernel_8948\\466599888.py:6: UserWarning: No artists with labels found to put in legend.  Note that artists whose label start with an underscore are ignored when legend() is called with no argument.\n",
      "  plt.legend()\n"
     ]
    },
    {
     "data": {
      "image/png": "[encoded data removed]",
      "text/plain": [
       "<Figure size 640x480 with 1 Axes>"
      ]
     },
     "metadata": {},
     "output_type": "display_data"
    }
   ],
   "source": [
    "plt.plot(range(len(model_gradient_descent.val_loss)), model_gradient_descent.val_loss)\n",
    "plt.xlabel(\"Iteration\")\n",
    "plt.ylabel(\"Validation Loss\")\n",
    "plt.title(\"Gradient Descent: Validation Loss vs Iterations\")\n",
    "plt.yscale(\"linear\")\n",
    "plt.legend()\n",
    "plt.tight_layout()\n",
    "plt.show()"
   ]
  },
  {
   "cell_type": "markdown",
   "id": "0610828f",
   "metadata": {},
   "source": [
    "##### Gradient Descent Visualization"
   ]
  },
  {
   "cell_type": "code",
   "execution_count": 29,
   "id": "266a83ce",
   "metadata": {},
   "outputs": [],
   "source": [
    "gd = GradientDescent()\n",
    "gd.fit(x_train = scaled_x_train, y_train=y_train, epochs=50, learning_rate=0.1)"
   ]
  },
  {
   "cell_type": "code",
   "execution_count": 30,
   "id": "774132d7",
   "metadata": {},
   "outputs": [
    {
     "data": {
      "image/png": "[encoded data removed]",
      "text/plain": [
       "<Figure size 640x480 with 1 Axes>"
      ]
     },
     "metadata": {},
     "output_type": "display_data"
    }
   ],
   "source": [
    "plt.plot(gd.weights, gd.loss_per_iterations, label=\"Curve\")\n",
    "plt.scatter(gd.weights, gd.loss_per_iterations, label=\"Points\", color = \"red\")\n",
    "plt.title(\"Visualizing Gradient Descent\")\n",
    "plt.xlabel(\"Parameter 5\"); \n",
    "plt.ylabel(\"Loss\"); \n",
    "plt.legend(); \n",
    "plt.show()"
   ]
  },
  {
   "cell_type": "markdown",
   "id": "c380e058",
   "metadata": {},
   "source": [
    "### (F) Evaluation Metrics"
   ]
  },
  {
   "cell_type": "code",
   "execution_count": 31,
   "id": "c7801e57",
   "metadata": {},
   "outputs": [],
   "source": [
    "def PerformanceMetrics(y_pred, y_test):\n",
    "    MAE = np.mean(np.abs(y_pred - y_test))\n",
    "    MSE = np.mean((y_pred - y_test) ** 2)\n",
    "    RMSE = np.sqrt(MSE)\n",
    "\n",
    "    # For R^2 score\n",
    "    rss = np.sum((y_test - y_pred) ** 2) ## Residual Sum of Squares (RSS)\n",
    "    tss = np.sum((y_test - np.mean(y_test)) ** 2) ## Total Sum of Squares(TSS)\n",
    "    R2 = 1 - rss / tss\n",
    "\n",
    "    print(\"Mean Squared Error (MSE):\", MSE)\n",
    "    print(\"Root Mean Squared Error (RMSE):\", RMSE)\n",
    "    print(\"Mean Absolute Error (MAE):\", MAE)\n",
    "    print(\"R^2 Score:\", R2)"
   ]
  },
  {
   "cell_type": "code",
   "execution_count": 32,
   "id": "74d2566d",
   "metadata": {},
   "outputs": [
    {
     "name": "stdout",
     "output_type": "stream",
     "text": [
      "Metrics of Linear Regression by Normal Equation: \n",
      "Mean Squared Error (MSE): 4886020526.855478\n",
      "Root Mean Squared Error (RMSE): 69900.07529935485\n",
      "Mean Absolute Error (MAE): 50669.4460909907\n",
      "R^2 Score: 0.6180349003715606\n",
      "\n",
      "Metrics of Linear Regression by Gradient Descent: \n",
      "Mean Squared Error (MSE): 5149425304.298778\n",
      "Root Mean Squared Error (RMSE): 71759.49626564262\n",
      "Mean Absolute Error (MAE): 52254.6248491863\n",
      "R^2 Score: 0.5974432079081875\n",
      "\n",
      "Metrics of Linear Regression by Scikit Learn: \n",
      "Mean Squared Error (MSE): 4886020526.855477\n",
      "Root Mean Squared Error (RMSE): 69900.07529935485\n",
      "Mean Absolute Error (MAE): 50669.44609099066\n",
      "R^2 Score: 0.6180349003715608\n"
     ]
    }
   ],
   "source": [
    "print(\"Metrics of Linear Regression by Normal Equation: \")\n",
    "PerformanceMetrics(y_pred = y_pred_normal_equation, y_test=y_test)\n",
    "print()\n",
    "print(\"Metrics of Linear Regression by Gradient Descent: \")\n",
    "PerformanceMetrics(y_pred = y_pred_gradient_descent, y_test=y_test)\n",
    "print()\n",
    "print(\"Metrics of Linear Regression by Scikit Learn: \")\n",
    "PerformanceMetrics(y_pred = y_pred_scikit_learn, y_test=y_test)"
   ]
  }
 ],
 "metadata": {
  "kernelspec": {
   "display_name": "base",
   "language": "python",
   "name": "python3"
  },
  "language_info": {
   "codemirror_mode": {
    "name": "ipython",
    "version": 3
   },
   "file_extension": ".py",
   "mimetype": "text/x-python",
   "name": "python",
   "nbconvert_exporter": "python",
   "pygments_lexer": "ipython3",
   "version": "3.12.7"
  }
 },
 "nbformat": 4,
 "nbformat_minor": 5
}
